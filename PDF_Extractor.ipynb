{
 "cells": [
  {
   "cell_type": "code",
   "execution_count": 1,
   "id": "585e3c70",
   "metadata": {},
   "outputs": [],
   "source": [
    "import fitz\n",
    "import re\n"
   ]
  },
  {
   "cell_type": "code",
   "execution_count": 2,
   "id": "c63ee9ef",
   "metadata": {},
   "outputs": [],
   "source": [
    "def extract_text_from_pdf(file_path):\n",
    "    doc = fitz.open(file_path)\n",
    "    text = \"\"\n",
    "    for page in doc:\n",
    "        text += page.get_text()\n",
    "    return text\n",
    "\n",
    "SKILLS_DB = [\n",
    "    # Programming Languages\n",
    "    \"python\", \"java\", \"c\", \"c++\", \"c#\", \"javascript\", \"typescript\", \"go\", \"ruby\", \"kotlin\", \"swift\", \"scala\", \"rust\",\n",
    "    \n",
    "    # Web Development\n",
    "    \"html\", \"css\", \"javascript\", \"react\", \"angular\", \"vue\", \"node.js\", \"express.js\", \"next.js\", \"bootstrap\", \"tailwind css\",\n",
    "    \n",
    "    # Backend & Frameworks\n",
    "    \"django\", \"flask\", \"spring\", \"fastapi\", \"laravel\", \".net\", \"asp.net\", \"rails\",\n",
    "\n",
    "    # Databases\n",
    "    \"sql\", \"mysql\", \"postgresql\", \"oracle\", \"sqlite\", \"mongodb\", \"firebase\", \"redis\", \"cassandra\", \"dynamodb\",\n",
    "\n",
    "    # DevOps & Tools\n",
    "    \"git\", \"github\", \"bitbucket\", \"gitlab\", \"docker\", \"kubernetes\", \"jenkins\", \"ansible\", \"terraform\", \"ci/cd\",\n",
    "\n",
    "    # Operating Systems & Shell\n",
    "    \"linux\", \"bash\", \"unix\", \"windows\", \"powershell\",\n",
    "\n",
    "    # Cloud Platforms\n",
    "    \"aws\", \"azure\", \"google cloud\", \"gcp\", \"heroku\", \"netlify\", \"vercel\", \"digitalocean\",\n",
    "\n",
    "    # Data Science & ML\n",
    "    \"numpy\", \"pandas\", \"matplotlib\", \"seaborn\", \"scikit-learn\", \"tensorflow\", \"keras\", \"pytorch\", \"xgboost\", \"statsmodels\",\n",
    "    \"openai\", \"huggingface\", \"langchain\", \"llm\", \"transformers\", \"cv2\", \"opencv\", \"nlp\", \"spacy\", \"gensim\",\n",
    "\n",
    "    # Data Engineering\n",
    "    \"hadoop\", \"spark\", \"hive\", \"pig\", \"airflow\", \"kafka\", \"databricks\", \"snowflake\",\n",
    "\n",
    "    # Tools & Editors\n",
    "    \"vscode\", \"pycharm\", \"intellij\", \"jupyter\", \"colab\", \"postman\", \"swagger\",\n",
    "\n",
    "    # APIs\n",
    "    \"rest\", \"graphql\", \"soap\", \"json\", \"xml\",\n",
    "\n",
    "    # Cybersecurity\n",
    "    \"nmap\", \"wireshark\", \"metasploit\", \"kali linux\", \"burp suite\", \"owasp\", \"hashing\", \"encryption\",\n",
    "\n",
    "    # Software Engineering Concepts\n",
    "    \"oop\", \"design patterns\", \"data structures\", \"algorithms\", \"version control\", \"unit testing\", \"agile\", \"scrum\",\n",
    "\n",
    "    # Other Skills\n",
    "    \"web scraping\", \"beautifulsoup\", \"selenium\", \"regex\", \"jwt\", \"oauth\", \"firebase\", \"sqlite3\",\n",
    "\n",
    "    # Soft/Business Skills (optional)\n",
    "    \"communication\", \"leadership\", \"teamwork\", \"project management\", \"time management\"\n",
    "]\n",
    "\n",
    "def extract_skills(text):\n",
    "    text = text.lower()\n",
    "    skills_found = []\n",
    "    for skill in SKILLS_DB:\n",
    "        if re.search(r'\\b' + re.escape(skill) + r'\\b', text):\n",
    "            skills_found.append(skill)\n",
    "    return skills_found\n"
   ]
  },
  {
   "cell_type": "code",
   "execution_count": 5,
   "id": "94385473",
   "metadata": {},
   "outputs": [
    {
     "name": "stdout",
     "output_type": "stream",
     "text": [
      "Skills Found: \n",
      "python\n",
      "java\n",
      "c\n",
      "javascript\n",
      "html\n",
      "css\n",
      "javascript\n",
      "react\n",
      "tailwind css\n",
      "flask\n",
      "mysql\n",
      "git\n",
      "github\n",
      "pandas\n",
      "matplotlib\n",
      "scikit-learn\n",
      "tensorflow\n",
      "pytorch\n",
      "llm\n",
      "transformers\n",
      "pycharm\n",
      "data structures\n",
      "algorithms\n",
      "version control\n",
      "leadership\n"
     ]
    }
   ],
   "source": [
    "file_path = \"CV @ 20-05-2025.pdf\"\n",
    "text = extract_text_from_pdf(file_path)\n",
    "\n",
    "skills_have = extract_skills(text)\n",
    "print(\"Skills Found: \")\n",
    "for skill in skills_have:\n",
    "    print(skill)\n",
    "    "
   ]
  }
 ],
 "metadata": {
  "kernelspec": {
   "display_name": "Python 3",
   "language": "python",
   "name": "python3"
  },
  "language_info": {
   "codemirror_mode": {
    "name": "ipython",
    "version": 3
   },
   "file_extension": ".py",
   "mimetype": "text/x-python",
   "name": "python",
   "nbconvert_exporter": "python",
   "pygments_lexer": "ipython3",
   "version": "3.12.4"
  }
 },
 "nbformat": 4,
 "nbformat_minor": 5
}
